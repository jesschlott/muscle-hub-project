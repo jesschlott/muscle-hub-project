{
 "cells": [
  {
   "cell_type": "markdown",
   "metadata": {},
   "source": [
    "# Capstone Project 1: MuscleHub AB Test"
   ]
  },
  {
   "cell_type": "markdown",
   "metadata": {},
   "source": [
    "## Step 1: Get started with SQL"
   ]
  },
  {
   "cell_type": "markdown",
   "metadata": {},
   "source": [
    "Like most businesses, Janet keeps her data in a SQL database.  Normally, you'd download the data from her database to a csv file, and then load it into a Jupyter Notebook using Pandas.\n",
    "\n",
    "For this project, you'll have to access SQL in a slightly different way.  You'll be using a special Codecademy library that lets you type SQL queries directly into this Jupyter notebook.  You'll have pass each SQL query as an argument to a function called `sql_query`.  Each query will return a Pandas DataFrame.  Here's an example:"
   ]
  },
  {
   "cell_type": "code",
   "execution_count": 4,
   "metadata": {},
   "outputs": [],
   "source": [
    "# This import only needs to happen once, at the beginning of the notebook\n",
    "\n",
    "from codecademySQL import sql_query"
   ]
  },
  {
   "cell_type": "code",
   "execution_count": 5,
   "metadata": {},
   "outputs": [
    {
     "data": {
      "text/html": [
       "<div>\n",
       "<style scoped>\n",
       "    .dataframe tbody tr th:only-of-type {\n",
       "        vertical-align: middle;\n",
       "    }\n",
       "\n",
       "    .dataframe tbody tr th {\n",
       "        vertical-align: top;\n",
       "    }\n",
       "\n",
       "    .dataframe thead th {\n",
       "        text-align: right;\n",
       "    }\n",
       "</style>\n",
       "<table border=\"1\" class=\"dataframe\">\n",
       "  <thead>\n",
       "    <tr style=\"text-align: right;\">\n",
       "      <th></th>\n",
       "      <th>index</th>\n",
       "      <th>first_name</th>\n",
       "      <th>last_name</th>\n",
       "      <th>email</th>\n",
       "      <th>gender</th>\n",
       "      <th>visit_date</th>\n",
       "    </tr>\n",
       "  </thead>\n",
       "  <tbody>\n",
       "    <tr>\n",
       "      <th>0</th>\n",
       "      <td>0</td>\n",
       "      <td>Karen</td>\n",
       "      <td>Manning</td>\n",
       "      <td>Karen.Manning@gmail.com</td>\n",
       "      <td>female</td>\n",
       "      <td>5-1-17</td>\n",
       "    </tr>\n",
       "    <tr>\n",
       "      <th>1</th>\n",
       "      <td>1</td>\n",
       "      <td>Annette</td>\n",
       "      <td>Boone</td>\n",
       "      <td>AB9982@gmail.com</td>\n",
       "      <td>female</td>\n",
       "      <td>5-1-17</td>\n",
       "    </tr>\n",
       "    <tr>\n",
       "      <th>2</th>\n",
       "      <td>2</td>\n",
       "      <td>Salvador</td>\n",
       "      <td>Merritt</td>\n",
       "      <td>SalvadorMerritt12@outlook.com</td>\n",
       "      <td>male</td>\n",
       "      <td>5-1-17</td>\n",
       "    </tr>\n",
       "    <tr>\n",
       "      <th>3</th>\n",
       "      <td>3</td>\n",
       "      <td>Martha</td>\n",
       "      <td>Maxwell</td>\n",
       "      <td>Martha.Maxwell@gmail.com</td>\n",
       "      <td>female</td>\n",
       "      <td>5-1-17</td>\n",
       "    </tr>\n",
       "    <tr>\n",
       "      <th>4</th>\n",
       "      <td>4</td>\n",
       "      <td>Andre</td>\n",
       "      <td>Mayer</td>\n",
       "      <td>AndreMayer90@gmail.com</td>\n",
       "      <td>male</td>\n",
       "      <td>5-1-17</td>\n",
       "    </tr>\n",
       "  </tbody>\n",
       "</table>\n",
       "</div>"
      ],
      "text/plain": [
       "   index first_name last_name                          email  gender  \\\n",
       "0      0      Karen   Manning        Karen.Manning@gmail.com  female   \n",
       "1      1    Annette     Boone               AB9982@gmail.com  female   \n",
       "2      2   Salvador   Merritt  SalvadorMerritt12@outlook.com    male   \n",
       "3      3     Martha   Maxwell       Martha.Maxwell@gmail.com  female   \n",
       "4      4      Andre     Mayer         AndreMayer90@gmail.com    male   \n",
       "\n",
       "  visit_date  \n",
       "0     5-1-17  \n",
       "1     5-1-17  \n",
       "2     5-1-17  \n",
       "3     5-1-17  \n",
       "4     5-1-17  "
      ]
     },
     "execution_count": 5,
     "metadata": {},
     "output_type": "execute_result"
    }
   ],
   "source": [
    "# Here's an example of a query that just displays some data\n",
    "\n",
    "sql_query('''\n",
    "SELECT *\n",
    "FROM visits\n",
    "LIMIT 5\n",
    "''')"
   ]
  },
  {
   "cell_type": "code",
   "execution_count": 6,
   "metadata": {},
   "outputs": [],
   "source": [
    "# Here's an example where we save the data to a DataFrame\n",
    "\n",
    "df = sql_query('''\n",
    "SELECT *\n",
    "FROM applications\n",
    "LIMIT 5\n",
    "''')"
   ]
  },
  {
   "cell_type": "markdown",
   "metadata": {},
   "source": [
    "## Step 2: Get your dataset"
   ]
  },
  {
   "cell_type": "markdown",
   "metadata": {},
   "source": [
    "Let's get started!\n",
    "\n",
    "Janet of MuscleHub has a SQLite database, which contains several tables that will be helpful to you in this investigation:\n",
    "- `visits` contains information about potential gym customers who have visited MuscleHub\n",
    "- `fitness_tests` contains information about potential customers in \"Group A\", who were given a fitness test\n",
    "- `applications` contains information about any potential customers (both \"Group A\" and \"Group B\") who filled out an application.  Not everyone in `visits` will have filled out an application.\n",
    "- `purchases` contains information about customers who purchased a membership to MuscleHub.\n",
    "\n",
    "Use the space below to examine each table."
   ]
  },
  {
   "cell_type": "code",
   "execution_count": 7,
   "metadata": {},
   "outputs": [
    {
     "data": {
      "text/html": [
       "<div>\n",
       "<style scoped>\n",
       "    .dataframe tbody tr th:only-of-type {\n",
       "        vertical-align: middle;\n",
       "    }\n",
       "\n",
       "    .dataframe tbody tr th {\n",
       "        vertical-align: top;\n",
       "    }\n",
       "\n",
       "    .dataframe thead th {\n",
       "        text-align: right;\n",
       "    }\n",
       "</style>\n",
       "<table border=\"1\" class=\"dataframe\">\n",
       "  <thead>\n",
       "    <tr style=\"text-align: right;\">\n",
       "      <th></th>\n",
       "      <th>index</th>\n",
       "      <th>first_name</th>\n",
       "      <th>last_name</th>\n",
       "      <th>email</th>\n",
       "      <th>gender</th>\n",
       "      <th>visit_date</th>\n",
       "    </tr>\n",
       "  </thead>\n",
       "  <tbody>\n",
       "    <tr>\n",
       "      <th>0</th>\n",
       "      <td>0</td>\n",
       "      <td>Karen</td>\n",
       "      <td>Manning</td>\n",
       "      <td>Karen.Manning@gmail.com</td>\n",
       "      <td>female</td>\n",
       "      <td>5-1-17</td>\n",
       "    </tr>\n",
       "    <tr>\n",
       "      <th>1</th>\n",
       "      <td>1</td>\n",
       "      <td>Annette</td>\n",
       "      <td>Boone</td>\n",
       "      <td>AB9982@gmail.com</td>\n",
       "      <td>female</td>\n",
       "      <td>5-1-17</td>\n",
       "    </tr>\n",
       "    <tr>\n",
       "      <th>2</th>\n",
       "      <td>2</td>\n",
       "      <td>Salvador</td>\n",
       "      <td>Merritt</td>\n",
       "      <td>SalvadorMerritt12@outlook.com</td>\n",
       "      <td>male</td>\n",
       "      <td>5-1-17</td>\n",
       "    </tr>\n",
       "    <tr>\n",
       "      <th>3</th>\n",
       "      <td>3</td>\n",
       "      <td>Martha</td>\n",
       "      <td>Maxwell</td>\n",
       "      <td>Martha.Maxwell@gmail.com</td>\n",
       "      <td>female</td>\n",
       "      <td>5-1-17</td>\n",
       "    </tr>\n",
       "    <tr>\n",
       "      <th>4</th>\n",
       "      <td>4</td>\n",
       "      <td>Andre</td>\n",
       "      <td>Mayer</td>\n",
       "      <td>AndreMayer90@gmail.com</td>\n",
       "      <td>male</td>\n",
       "      <td>5-1-17</td>\n",
       "    </tr>\n",
       "  </tbody>\n",
       "</table>\n",
       "</div>"
      ],
      "text/plain": [
       "   index first_name last_name                          email  gender  \\\n",
       "0      0      Karen   Manning        Karen.Manning@gmail.com  female   \n",
       "1      1    Annette     Boone               AB9982@gmail.com  female   \n",
       "2      2   Salvador   Merritt  SalvadorMerritt12@outlook.com    male   \n",
       "3      3     Martha   Maxwell       Martha.Maxwell@gmail.com  female   \n",
       "4      4      Andre     Mayer         AndreMayer90@gmail.com    male   \n",
       "\n",
       "  visit_date  \n",
       "0     5-1-17  \n",
       "1     5-1-17  \n",
       "2     5-1-17  \n",
       "3     5-1-17  \n",
       "4     5-1-17  "
      ]
     },
     "execution_count": 7,
     "metadata": {},
     "output_type": "execute_result"
    }
   ],
   "source": [
    "# Examine visits here\n",
    "\n",
    "sql_query('''\n",
    "SELECT *\n",
    "FROM visits\n",
    "LIMIT 5\n",
    "''')"
   ]
  },
  {
   "cell_type": "code",
   "execution_count": 8,
   "metadata": {},
   "outputs": [
    {
     "data": {
      "text/html": [
       "<div>\n",
       "<style scoped>\n",
       "    .dataframe tbody tr th:only-of-type {\n",
       "        vertical-align: middle;\n",
       "    }\n",
       "\n",
       "    .dataframe tbody tr th {\n",
       "        vertical-align: top;\n",
       "    }\n",
       "\n",
       "    .dataframe thead th {\n",
       "        text-align: right;\n",
       "    }\n",
       "</style>\n",
       "<table border=\"1\" class=\"dataframe\">\n",
       "  <thead>\n",
       "    <tr style=\"text-align: right;\">\n",
       "      <th></th>\n",
       "      <th>index</th>\n",
       "      <th>first_name</th>\n",
       "      <th>last_name</th>\n",
       "      <th>email</th>\n",
       "      <th>gender</th>\n",
       "      <th>fitness_test_date</th>\n",
       "    </tr>\n",
       "  </thead>\n",
       "  <tbody>\n",
       "    <tr>\n",
       "      <th>0</th>\n",
       "      <td>0</td>\n",
       "      <td>Kim</td>\n",
       "      <td>Walter</td>\n",
       "      <td>KimWalter58@gmail.com</td>\n",
       "      <td>female</td>\n",
       "      <td>2017-07-03</td>\n",
       "    </tr>\n",
       "    <tr>\n",
       "      <th>1</th>\n",
       "      <td>1</td>\n",
       "      <td>Tom</td>\n",
       "      <td>Webster</td>\n",
       "      <td>TW3857@gmail.com</td>\n",
       "      <td>male</td>\n",
       "      <td>2017-07-02</td>\n",
       "    </tr>\n",
       "    <tr>\n",
       "      <th>2</th>\n",
       "      <td>2</td>\n",
       "      <td>Marcus</td>\n",
       "      <td>Bauer</td>\n",
       "      <td>Marcus.Bauer@gmail.com</td>\n",
       "      <td>male</td>\n",
       "      <td>2017-07-01</td>\n",
       "    </tr>\n",
       "    <tr>\n",
       "      <th>3</th>\n",
       "      <td>3</td>\n",
       "      <td>Roberta</td>\n",
       "      <td>Best</td>\n",
       "      <td>RB6305@hotmail.com</td>\n",
       "      <td>female</td>\n",
       "      <td>2017-07-02</td>\n",
       "    </tr>\n",
       "    <tr>\n",
       "      <th>4</th>\n",
       "      <td>4</td>\n",
       "      <td>Carrie</td>\n",
       "      <td>Francis</td>\n",
       "      <td>CF1896@hotmail.com</td>\n",
       "      <td>female</td>\n",
       "      <td>2017-07-05</td>\n",
       "    </tr>\n",
       "  </tbody>\n",
       "</table>\n",
       "</div>"
      ],
      "text/plain": [
       "   index first_name last_name                   email  gender  \\\n",
       "0      0        Kim    Walter   KimWalter58@gmail.com  female   \n",
       "1      1        Tom   Webster        TW3857@gmail.com    male   \n",
       "2      2     Marcus     Bauer  Marcus.Bauer@gmail.com    male   \n",
       "3      3    Roberta      Best      RB6305@hotmail.com  female   \n",
       "4      4     Carrie   Francis      CF1896@hotmail.com  female   \n",
       "\n",
       "  fitness_test_date  \n",
       "0        2017-07-03  \n",
       "1        2017-07-02  \n",
       "2        2017-07-01  \n",
       "3        2017-07-02  \n",
       "4        2017-07-05  "
      ]
     },
     "execution_count": 8,
     "metadata": {},
     "output_type": "execute_result"
    }
   ],
   "source": [
    "# Examine fitness_tests here\n",
    "\n",
    "sql_query('''\n",
    "SELECT *\n",
    "FROM fitness_tests\n",
    "LIMIT 5\n",
    "''')"
   ]
  },
  {
   "cell_type": "code",
   "execution_count": 9,
   "metadata": {},
   "outputs": [
    {
     "data": {
      "text/html": [
       "<div>\n",
       "<style scoped>\n",
       "    .dataframe tbody tr th:only-of-type {\n",
       "        vertical-align: middle;\n",
       "    }\n",
       "\n",
       "    .dataframe tbody tr th {\n",
       "        vertical-align: top;\n",
       "    }\n",
       "\n",
       "    .dataframe thead th {\n",
       "        text-align: right;\n",
       "    }\n",
       "</style>\n",
       "<table border=\"1\" class=\"dataframe\">\n",
       "  <thead>\n",
       "    <tr style=\"text-align: right;\">\n",
       "      <th></th>\n",
       "      <th>index</th>\n",
       "      <th>first_name</th>\n",
       "      <th>last_name</th>\n",
       "      <th>email</th>\n",
       "      <th>gender</th>\n",
       "      <th>application_date</th>\n",
       "    </tr>\n",
       "  </thead>\n",
       "  <tbody>\n",
       "    <tr>\n",
       "      <th>0</th>\n",
       "      <td>0</td>\n",
       "      <td>Roy</td>\n",
       "      <td>Abbott</td>\n",
       "      <td>RoyAbbott32@gmail.com</td>\n",
       "      <td>male</td>\n",
       "      <td>2017-08-12</td>\n",
       "    </tr>\n",
       "    <tr>\n",
       "      <th>1</th>\n",
       "      <td>1</td>\n",
       "      <td>Agnes</td>\n",
       "      <td>Acevedo</td>\n",
       "      <td>AgnesAcevedo1@gmail.com</td>\n",
       "      <td>female</td>\n",
       "      <td>2017-09-29</td>\n",
       "    </tr>\n",
       "    <tr>\n",
       "      <th>2</th>\n",
       "      <td>2</td>\n",
       "      <td>Roberta</td>\n",
       "      <td>Acevedo</td>\n",
       "      <td>RA8063@gmail.com</td>\n",
       "      <td>female</td>\n",
       "      <td>2017-09-15</td>\n",
       "    </tr>\n",
       "    <tr>\n",
       "      <th>3</th>\n",
       "      <td>3</td>\n",
       "      <td>Darren</td>\n",
       "      <td>Acosta</td>\n",
       "      <td>DAcosta1996@hotmail.com</td>\n",
       "      <td>male</td>\n",
       "      <td>2017-07-26</td>\n",
       "    </tr>\n",
       "    <tr>\n",
       "      <th>4</th>\n",
       "      <td>4</td>\n",
       "      <td>Vernon</td>\n",
       "      <td>Acosta</td>\n",
       "      <td>VAcosta1975@gmail.com</td>\n",
       "      <td>male</td>\n",
       "      <td>2017-07-14</td>\n",
       "    </tr>\n",
       "  </tbody>\n",
       "</table>\n",
       "</div>"
      ],
      "text/plain": [
       "   index first_name last_name                    email  gender  \\\n",
       "0      0        Roy    Abbott    RoyAbbott32@gmail.com    male   \n",
       "1      1      Agnes   Acevedo  AgnesAcevedo1@gmail.com  female   \n",
       "2      2    Roberta   Acevedo         RA8063@gmail.com  female   \n",
       "3      3     Darren    Acosta  DAcosta1996@hotmail.com    male   \n",
       "4      4     Vernon    Acosta    VAcosta1975@gmail.com    male   \n",
       "\n",
       "  application_date  \n",
       "0       2017-08-12  \n",
       "1       2017-09-29  \n",
       "2       2017-09-15  \n",
       "3       2017-07-26  \n",
       "4       2017-07-14  "
      ]
     },
     "execution_count": 9,
     "metadata": {},
     "output_type": "execute_result"
    }
   ],
   "source": [
    "# Examine applications here\n",
    "\n",
    "sql_query('''\n",
    "SELECT *\n",
    "FROM applications\n",
    "LIMIT 5\n",
    "''')"
   ]
  },
  {
   "cell_type": "code",
   "execution_count": 10,
   "metadata": {},
   "outputs": [
    {
     "data": {
      "text/html": [
       "<div>\n",
       "<style scoped>\n",
       "    .dataframe tbody tr th:only-of-type {\n",
       "        vertical-align: middle;\n",
       "    }\n",
       "\n",
       "    .dataframe tbody tr th {\n",
       "        vertical-align: top;\n",
       "    }\n",
       "\n",
       "    .dataframe thead th {\n",
       "        text-align: right;\n",
       "    }\n",
       "</style>\n",
       "<table border=\"1\" class=\"dataframe\">\n",
       "  <thead>\n",
       "    <tr style=\"text-align: right;\">\n",
       "      <th></th>\n",
       "      <th>index</th>\n",
       "      <th>first_name</th>\n",
       "      <th>last_name</th>\n",
       "      <th>email</th>\n",
       "      <th>gender</th>\n",
       "      <th>purchase_date</th>\n",
       "    </tr>\n",
       "  </thead>\n",
       "  <tbody>\n",
       "    <tr>\n",
       "      <th>0</th>\n",
       "      <td>0</td>\n",
       "      <td>Roy</td>\n",
       "      <td>Abbott</td>\n",
       "      <td>RoyAbbott32@gmail.com</td>\n",
       "      <td>male</td>\n",
       "      <td>2017-08-18</td>\n",
       "    </tr>\n",
       "    <tr>\n",
       "      <th>1</th>\n",
       "      <td>1</td>\n",
       "      <td>Roberta</td>\n",
       "      <td>Acevedo</td>\n",
       "      <td>RA8063@gmail.com</td>\n",
       "      <td>female</td>\n",
       "      <td>2017-09-16</td>\n",
       "    </tr>\n",
       "    <tr>\n",
       "      <th>2</th>\n",
       "      <td>2</td>\n",
       "      <td>Vernon</td>\n",
       "      <td>Acosta</td>\n",
       "      <td>VAcosta1975@gmail.com</td>\n",
       "      <td>male</td>\n",
       "      <td>2017-07-20</td>\n",
       "    </tr>\n",
       "    <tr>\n",
       "      <th>3</th>\n",
       "      <td>3</td>\n",
       "      <td>Darren</td>\n",
       "      <td>Acosta</td>\n",
       "      <td>DAcosta1996@hotmail.com</td>\n",
       "      <td>male</td>\n",
       "      <td>2017-07-27</td>\n",
       "    </tr>\n",
       "    <tr>\n",
       "      <th>4</th>\n",
       "      <td>4</td>\n",
       "      <td>Dawn</td>\n",
       "      <td>Adkins</td>\n",
       "      <td>Dawn.Adkins@gmail.com</td>\n",
       "      <td>female</td>\n",
       "      <td>2017-08-24</td>\n",
       "    </tr>\n",
       "  </tbody>\n",
       "</table>\n",
       "</div>"
      ],
      "text/plain": [
       "   index first_name last_name                    email  gender purchase_date\n",
       "0      0        Roy    Abbott    RoyAbbott32@gmail.com    male    2017-08-18\n",
       "1      1    Roberta   Acevedo         RA8063@gmail.com  female    2017-09-16\n",
       "2      2     Vernon    Acosta    VAcosta1975@gmail.com    male    2017-07-20\n",
       "3      3     Darren    Acosta  DAcosta1996@hotmail.com    male    2017-07-27\n",
       "4      4       Dawn    Adkins    Dawn.Adkins@gmail.com  female    2017-08-24"
      ]
     },
     "execution_count": 10,
     "metadata": {},
     "output_type": "execute_result"
    }
   ],
   "source": [
    "# Examine purchases here\n",
    "\n",
    "sql_query('''\n",
    "SELECT *\n",
    "FROM purchases\n",
    "LIMIT 5\n",
    "''')"
   ]
  },
  {
   "cell_type": "markdown",
   "metadata": {},
   "source": [
    "We'd like to download a giant DataFrame containing all of this data.  You'll need to write a query that does the following things:\n",
    "\n",
    "1. Not all visits in  `visits` occurred during the A/B test.  You'll only want to pull data where `visit_date` is on or after `7-1-17`.\n",
    "\n",
    "2. You'll want to perform a series of `LEFT JOIN` commands to combine the four tables that we care about.  You'll need to perform the joins on `first_name`, `last_name`, and `email`.  Pull the following columns:\n",
    "\n",
    "\n",
    "- `visits.first_name`\n",
    "- `visits.last_name`\n",
    "- `visits.gender`\n",
    "- `visits.email`\n",
    "- `visits.visit_date`\n",
    "- `fitness_tests.fitness_test_date`\n",
    "- `applications.application_date`\n",
    "- `purchases.purchase_date`\n",
    "\n",
    "Save the result of this query to a variable called `df`.\n",
    "\n",
    "Hint: your result should have 5004 rows.  Does it?"
   ]
  },
  {
   "cell_type": "code",
   "execution_count": 11,
   "metadata": {},
   "outputs": [
    {
     "name": "stdout",
     "output_type": "stream",
     "text": [
      "     first_name   last_name  gender                          email visit_date  \\\n",
      "0           Kim      Walter  female          KimWalter58@gmail.com     7-1-17   \n",
      "1           Tom     Webster    male               TW3857@gmail.com     7-1-17   \n",
      "2        Edward       Bowen    male         Edward.Bowen@gmail.com     7-1-17   \n",
      "3        Marcus       Bauer    male         Marcus.Bauer@gmail.com     7-1-17   \n",
      "4       Roberta        Best  female             RB6305@hotmail.com     7-1-17   \n",
      "5        Joseph       Foley    male        JosephFoley81@gmail.com     7-1-17   \n",
      "6        Carrie     Francis  female             CF1896@hotmail.com     7-1-17   \n",
      "7        Sharon     William  female     Sharon.William@outlook.com     7-1-17   \n",
      "8        Teresa       Yates  female           TYates1988@gmail.com     7-1-17   \n",
      "9      Salvador    Cardenas    male        SCardenas1980@gmail.com     7-1-17   \n",
      "10         Glen      Barker    male          GBarker1976@gmail.com     7-1-17   \n",
      "11      Valerie       Munoz  female           VMunoz1998@gmail.com     7-1-17   \n",
      "12       Jeremy        Howe    male            JHowe1982@gmail.com     7-1-17   \n",
      "13         Joel       Combs    male               JC9481@gmail.com     7-1-17   \n",
      "14        Oscar      Forbes    male         Oscar.Forbes@gmail.com     7-1-17   \n",
      "15       Darryl      Albert    male          DAlbert1975@gmail.com     7-1-17   \n",
      "16      Armando  Valenzuela    male  ArmandoValenzuela67@gmail.com     7-1-17   \n",
      "17         June       Ayers  female               JA2612@gmail.com     7-1-17   \n",
      "18        Nancy       Morin  female          Nancy.Morin@gmail.com     7-1-17   \n",
      "19     Lorraine     Lindsay  female               LL3161@gmail.com     7-1-17   \n",
      "20        Carla    Guerrero  female               CG6354@gmail.com     7-1-17   \n",
      "21         Gina      Monroe  female          GMonroe1973@gmail.com     7-1-17   \n",
      "22         Andy    Roberson    male        ARoberson1972@yahoo.com     7-1-17   \n",
      "23       Arnold      Madden    male          AMadden1998@gmail.com     7-1-17   \n",
      "24       Norman   Frederick    male               NF6074@gmail.com     7-1-17   \n",
      "25       Morris        Lott    male               ML9504@gmail.com     7-1-17   \n",
      "26         Cory      Gamble    male          CGamble1983@gmail.com     7-1-17   \n",
      "27       Marcus     Gilliam    male         MGilliam1997@gmail.com     7-1-17   \n",
      "28     Clifford     Guthrie    male     Clifford.Guthrie@gmail.com     7-1-17   \n",
      "29        Terry     Merrill    male       TerryMerrill91@gmail.com     7-1-17   \n",
      "...         ...         ...     ...                            ...        ...   \n",
      "4974    Dolores     Nielsen  female       DNielsen1989@outlook.com     9-9-17   \n",
      "4975      Kathy       Drake  female         KathyDrake58@yahoo.com     9-9-17   \n",
      "4976      Misty    Roberson  female       Misty.Roberson@gmail.com     9-9-17   \n",
      "4977     Marian      Daniel  female      Marian.Daniel@outlook.com     9-9-17   \n",
      "4978      Wanda        Snow  female          WandaSnow93@gmail.com     9-9-17   \n",
      "4979     Nathan    Gallegos    male        NGallegos1993@gmail.com     9-9-17   \n",
      "4980     Evelyn      Reeves  female      Evelyn.Reeves@hotmail.com     9-9-17   \n",
      "4981      Kelly        Tate    male               KT1133@yahoo.com     9-9-17   \n",
      "4982     Willie        Mann  female            WMann1985@gmail.com     9-9-17   \n",
      "4983      Ellen       Blake  female               EB2921@gmail.com     9-9-17   \n",
      "4984   Marjorie        Wong  female            MWong1985@gmail.com     9-9-17   \n",
      "4985     Margie      Walton  female        Margie.Walton@gmail.com     9-9-17   \n",
      "4986      Peter    Figueroa    male               PF2641@gmail.com     9-9-17   \n",
      "4987    Clifton        Leon    male         Clifton.Leon@gmail.com     9-9-17   \n",
      "4988     Gordon    Espinoza    male               GE6498@gmail.com     9-9-17   \n",
      "4989       Luis       Horne    male             LH9941@outlook.com     9-9-17   \n",
      "4990    Francis      Durham    male      FrancisDurham84@gmail.com     9-9-17   \n",
      "4991    Suzanne    Humphrey  female     SuzanneHumphrey4@gmail.com     9-9-17   \n",
      "4992      Glenn      Kinney    male         Glenn.Kinney@gmail.com     9-9-17   \n",
      "4993       Jose   Stevenson    male      JoseStevenson56@gmail.com     9-9-17   \n",
      "4994    Gregory        Wong    male            GWong1970@gmail.com     9-9-17   \n",
      "4995       Dean       Mejia    male               DM7848@gmail.com     9-9-17   \n",
      "4996     Sharon        Hahn  female               SH5322@gmail.com     9-9-17   \n",
      "4997       Adam      Grimes    male          Adam.Grimes@gmail.com     9-9-17   \n",
      "4998       Sara      Malone  female          SMalone1995@gmail.com     9-9-17   \n",
      "4999     Rachel     Hensley  female      RachelHensley38@gmail.com     9-9-17   \n",
      "5000       Leon      Harmon    male          Leon.Harmon@gmail.com     9-9-17   \n",
      "5001       Andy       Pratt    male          AndyPratt27@gmail.com     9-9-17   \n",
      "5002      Ruben     Nielsen    male     RubenNielsen93@hotmail.com     9-9-17   \n",
      "5003    Charles      Carver    male               CC2490@gmail.com     9-9-17   \n",
      "\n",
      "     fitness_test_date application_date purchase_date  \n",
      "0           2017-07-03             None          None  \n",
      "1           2017-07-02             None          None  \n",
      "2                 None       2017-07-04    2017-07-04  \n",
      "3           2017-07-01       2017-07-03    2017-07-05  \n",
      "4           2017-07-02             None          None  \n",
      "5                 None             None          None  \n",
      "6           2017-07-05             None          None  \n",
      "7                 None             None          None  \n",
      "8           2017-07-02             None          None  \n",
      "9           2017-07-07       2017-07-06          None  \n",
      "10                None             None          None  \n",
      "11          2017-07-03       2017-07-05    2017-07-06  \n",
      "12          2017-07-06             None          None  \n",
      "13          2017-07-01             None          None  \n",
      "14                None             None          None  \n",
      "15                None             None          None  \n",
      "16                None             None          None  \n",
      "17                None             None          None  \n",
      "18          2017-07-05             None          None  \n",
      "19          2017-07-05             None          None  \n",
      "20          2017-07-03             None          None  \n",
      "21                None             None          None  \n",
      "22          2017-07-05             None          None  \n",
      "23          2017-07-01             None          None  \n",
      "24                None             None          None  \n",
      "25          2017-07-03             None          None  \n",
      "26                None             None          None  \n",
      "27                None             None          None  \n",
      "28          2017-07-04             None          None  \n",
      "29                None             None          None  \n",
      "...                ...              ...           ...  \n",
      "4974        2017-09-14             None          None  \n",
      "4975              None             None          None  \n",
      "4976        2017-09-14             None          None  \n",
      "4977              None             None          None  \n",
      "4978              None             None          None  \n",
      "4979              None             None          None  \n",
      "4980              None             None          None  \n",
      "4981        2017-09-12             None          None  \n",
      "4982        2017-09-11             None          None  \n",
      "4983        2017-09-10             None          None  \n",
      "4984              None             None          None  \n",
      "4985              None             None          None  \n",
      "4986        2017-09-15             None          None  \n",
      "4987        2017-09-12             None          None  \n",
      "4988        2017-09-12             None          None  \n",
      "4989              None             None          None  \n",
      "4990              None             None          None  \n",
      "4991        2017-09-09       2017-09-13    2017-09-18  \n",
      "4992              None             None          None  \n",
      "4993              None             None          None  \n",
      "4994        2017-09-09             None          None  \n",
      "4995        2017-09-13             None          None  \n",
      "4996              None             None          None  \n",
      "4997              None             None          None  \n",
      "4998        2017-09-13             None          None  \n",
      "4999              None             None          None  \n",
      "5000        2017-09-15             None          None  \n",
      "5001        2017-09-15             None          None  \n",
      "5002              None       2017-09-13          None  \n",
      "5003        2017-09-12             None          None  \n",
      "\n",
      "[5004 rows x 8 columns]\n"
     ]
    }
   ],
   "source": [
    "df = sql_query('''\n",
    "SELECT visits.first_name,\n",
    "       visits.last_name,\n",
    "       visits.gender,\n",
    "       visits.email,\n",
    "       visits.visit_date,\n",
    "       fitness_tests.fitness_test_date,\n",
    "       applications.application_date,\n",
    "       purchases.purchase_date\n",
    "FROM visits\n",
    "LEFT JOIN fitness_tests\n",
    "    ON fitness_tests.first_name = visits.first_name\n",
    "    AND fitness_tests.last_name = visits.last_name\n",
    "    AND fitness_tests.email = visits.email\n",
    "LEFT JOIN applications\n",
    "    ON applications.first_name = visits.first_name\n",
    "    AND applications.last_name = visits.last_name\n",
    "    AND applications.email = visits.email\n",
    "LEFT JOIN purchases\n",
    "    ON purchases.first_name = visits.first_name\n",
    "    AND purchases.last_name = visits.last_name\n",
    "    AND purchases.email = visits.email\n",
    "WHERE visits.visit_date >= '7-1-17'\n",
    "''')\n",
    "\n",
    "print df"
   ]
  },
  {
   "cell_type": "markdown",
   "metadata": {},
   "source": [
    "## Step 3: Investigate the A and B groups"
   ]
  },
  {
   "cell_type": "markdown",
   "metadata": {},
   "source": [
    "We have some data to work with! Import the following modules so that we can start doing analysis:\n",
    "- `import pandas as pd`\n",
    "- `from matplotlib import pyplot as plt`"
   ]
  },
  {
   "cell_type": "code",
   "execution_count": 12,
   "metadata": {},
   "outputs": [],
   "source": [
    "import pandas as pd\n",
    "from matplotlib import pyplot as plt"
   ]
  },
  {
   "cell_type": "markdown",
   "metadata": {},
   "source": [
    "We're going to add some columns to `df` to help us with our analysis.\n",
    "\n",
    "Start by adding a column called `ab_test_group`.  It should be `A` if `fitness_test_date` is not `None`, and `B` if `fitness_test_date` is `None`."
   ]
  },
  {
   "cell_type": "code",
   "execution_count": 13,
   "metadata": {},
   "outputs": [],
   "source": [
    "df['ab_test_group'] = df.fitness_test_date.apply(lambda x: 'A' if pd.notnull(x) else 'B')"
   ]
  },
  {
   "cell_type": "markdown",
   "metadata": {},
   "source": [
    "Let's do a quick sanity check that Janet split her visitors such that about half are in A and half are in B.\n",
    "\n",
    "Start by using `groupby` to count how many users are in each `ab_test_group`.  Save the results to `ab_counts`."
   ]
  },
  {
   "cell_type": "code",
   "execution_count": 14,
   "metadata": {},
   "outputs": [
    {
     "name": "stdout",
     "output_type": "stream",
     "text": [
      "  ab_test_group  first_name\n",
      "0             A        2504\n",
      "1             B        2500\n"
     ]
    }
   ],
   "source": [
    "ab_counts = df.groupby('ab_test_group').first_name.count().reset_index()\n",
    "\n",
    "print ab_counts"
   ]
  },
  {
   "cell_type": "markdown",
   "metadata": {},
   "source": [
    "We'll want to include this information in our presentation.  Let's create a pie cart using `plt.pie`.  Make sure to include:\n",
    "- Use `plt.axis('equal')` so that your pie chart looks nice\n",
    "- Add a legend labeling `A` and `B`\n",
    "- Use `autopct` to label the percentage of each group\n",
    "- Save your figure as `ab_test_pie_chart.png`"
   ]
  },
  {
   "cell_type": "code",
   "execution_count": 15,
   "metadata": {},
   "outputs": [
    {
     "data": {
      "image/png": "[encoded data removed]",
      "text/plain": [
       "<matplotlib.figure.Figure at 0xc287ef0>"
      ]
     },
     "metadata": {},
     "output_type": "display_data"
    },
    {
     "data": {
      "text/plain": [
       "<matplotlib.figure.Figure at 0xc2bde10>"
      ]
     },
     "metadata": {},
     "output_type": "display_data"
    }
   ],
   "source": [
    "plt.pie(ab_counts.first_name.values, labels=['A', 'B'], autopct='%0.2f%%')\n",
    "plt.axis('equal')\n",
    "plt.title('AB Split')\n",
    "plt.show()\n",
    "plt.savefig('ab_test_pie_chart.png')"
   ]
  },
  {
   "cell_type": "markdown",
   "metadata": {},
   "source": [
    "## Step 4: Who picks up an application?"
   ]
  },
  {
   "cell_type": "markdown",
   "metadata": {},
   "source": [
    "Recall that the sign-up process for MuscleHub has several steps:\n",
    "1. Take a fitness test with a personal trainer (only Group A)\n",
    "2. Fill out an application for the gym\n",
    "3. Send in their payment for their first month's membership\n",
    "\n",
    "Let's examine how many people make it to Step 2, filling out an application.\n",
    "\n",
    "Start by creating a new column in `df` called `is_application` which is `Application` if `application_date` is not `None` and `No Application`, otherwise."
   ]
  },
  {
   "cell_type": "code",
   "execution_count": 16,
   "metadata": {},
   "outputs": [],
   "source": [
    "df['is_application'] = df.application_date.apply(lambda x: 'Application' if pd.notnull(x) else 'No Application')"
   ]
  },
  {
   "cell_type": "markdown",
   "metadata": {},
   "source": [
    "Now, using `groupby`, count how many people from Group A and Group B either do or don't pick up an application.  You'll want to group by `ab_test_group` and `is_application`.  Save this new DataFrame as `app_counts`"
   ]
  },
  {
   "cell_type": "code",
   "execution_count": 19,
   "metadata": {},
   "outputs": [
    {
     "name": "stdout",
     "output_type": "stream",
     "text": [
      "  ab_test_group  is_application  first_name\n",
      "0             A     Application         250\n",
      "1             A  No Application        2254\n",
      "2             B     Application         325\n",
      "3             B  No Application        2175\n"
     ]
    }
   ],
   "source": [
    "app_counts = df.groupby(['ab_test_group', 'is_application']).first_name.count().reset_index()\n",
    "print app_counts"
   ]
  },
  {
   "cell_type": "markdown",
   "metadata": {},
   "source": [
    "We're going to want to calculate the percent of people in each group who complete an application.  It's going to be much easier to do this if we pivot `app_counts` such that:\n",
    "- The `index` is `ab_test_group`\n",
    "- The `columns` are `is_application`\n",
    "Perform this pivot and save it to the variable `app_pivot`.  Remember to call `reset_index()` at the end of the pivot!"
   ]
  },
  {
   "cell_type": "code",
   "execution_count": 20,
   "metadata": {},
   "outputs": [
    {
     "name": "stdout",
     "output_type": "stream",
     "text": [
      "is_application ab_test_group  Application  No Application\n",
      "0                          A          250            2254\n",
      "1                          B          325            2175\n"
     ]
    }
   ],
   "source": [
    "app_pivot = app_counts.pivot(columns='is_application', index='ab_test_group', values='first_name').reset_index()\n",
    "print app_pivot"
   ]
  },
  {
   "cell_type": "markdown",
   "metadata": {},
   "source": [
    "Define a new column called `Total`, which is the sum of `Application` and `No Application`."
   ]
  },
  {
   "cell_type": "code",
   "execution_count": 22,
   "metadata": {},
   "outputs": [
    {
     "name": "stdout",
     "output_type": "stream",
     "text": [
      "is_application ab_test_group  Application  No Application  Total\n",
      "0                          A          250            2254   2504\n",
      "1                          B          325            2175   2500\n"
     ]
    }
   ],
   "source": [
    "app_pivot['Total'] = app_pivot.Application + app_pivot['No Application']\n",
    "print app_pivot"
   ]
  },
  {
   "cell_type": "markdown",
   "metadata": {},
   "source": [
    "Calculate another column called `Percent with Application`, which is equal to `Application` divided by `Total`."
   ]
  },
  {
   "cell_type": "code",
   "execution_count": 24,
   "metadata": {},
   "outputs": [
    {
     "name": "stdout",
     "output_type": "stream",
     "text": [
      "is_application ab_test_group  Application  No Application  Total  \\\n",
      "0                          A          250            2254   2504   \n",
      "1                          B          325            2175   2500   \n",
      "\n",
      "is_application  Percent with Application  \n",
      "0                                0.09984  \n",
      "1                                0.13000  \n"
     ]
    }
   ],
   "source": [
    "app_pivot['Percent with Application'] = app_pivot.Application / app_pivot.Total\n",
    "print app_pivot"
   ]
  },
  {
   "cell_type": "markdown",
   "metadata": {},
   "source": [
    "It looks like more people from Group B turned in an application.  Why might that be?\n",
    "\n",
    "We need to know if this difference is statistically significant.\n",
    "\n",
    "Choose a hypothesis tests, import it from `scipy` and perform it.  Be sure to note the p-value.\n",
    "Is this result significant?"
   ]
  },
  {
   "cell_type": "code",
   "execution_count": 30,
   "metadata": {},
   "outputs": [
    {
     "name": "stdout",
     "output_type": "stream",
     "text": [
      "0.0009647827600722304\n"
     ]
    }
   ],
   "source": [
    "from scipy.stats import chi2_contingency\n",
    "\n",
    "contingency = [[250,2254], [325, 2175]]\n",
    "chi2, pval, dof, expected = chi2_contingency(contingency)\n",
    "\n",
    "print pval"
   ]
  },
  {
   "cell_type": "markdown",
   "metadata": {},
   "source": [
    "## Step 4: Who purchases a membership?"
   ]
  },
  {
   "cell_type": "markdown",
   "metadata": {},
   "source": [
    "Of those who picked up an application, how many purchased a membership?\n",
    "\n",
    "Let's begin by adding a column to `df` called `is_member` which is `Member` if `purchase_date` is not `None`, and `Not Member` otherwise."
   ]
  },
  {
   "cell_type": "code",
   "execution_count": 31,
   "metadata": {},
   "outputs": [],
   "source": [
    "df['is_member'] = df.purchase_date.apply(lambda x: 'Member' if pd.notnull(x) else 'Not Member')"
   ]
  },
  {
   "cell_type": "markdown",
   "metadata": {},
   "source": [
    "Now, let's create a DataFrame called `just_apps` the contains only people who picked up an application."
   ]
  },
  {
   "cell_type": "code",
   "execution_count": 33,
   "metadata": {},
   "outputs": [
    {
     "name": "stdout",
     "output_type": "stream",
     "text": [
      "     first_name  last_name  gender                          email visit_date  \\\n",
      "2        Edward      Bowen    male         Edward.Bowen@gmail.com     7-1-17   \n",
      "3        Marcus      Bauer    male         Marcus.Bauer@gmail.com     7-1-17   \n",
      "9      Salvador   Cardenas    male        SCardenas1980@gmail.com     7-1-17   \n",
      "11      Valerie      Munoz  female           VMunoz1998@gmail.com     7-1-17   \n",
      "35      Michael      Burks    male               MB9820@gmail.com     7-1-17   \n",
      "36        Clyde    Patrick    male        Clyde.Patrick@gmail.com     7-1-17   \n",
      "69        Sonia    Harrell  female       SoniaHarrell53@gmail.com    7-10-17   \n",
      "95      Marlene     Barron  female          MBarron1979@yahoo.com    7-10-17   \n",
      "106      Nelson    Dejesus    male               ND1356@gmail.com    7-10-17   \n",
      "122        Lisa     Kramer  female          Lisa.Kramer@gmail.com    7-10-17   \n",
      "131        Nora    Collier  female        NoraCollier26@gmail.com    7-11-17   \n",
      "136      Nathan      Sharp    male             NS5703@outlook.com    7-11-17   \n",
      "137        Rita     Vinson  female         RitaVinson48@gmail.com    7-11-17   \n",
      "143       Jamie       Owen  female                 JO7076@aol.com    7-11-17   \n",
      "149      Lonnie    Brennan    male       Lonnie.Brennan@gmail.com    7-11-17   \n",
      "154       Agnes    Raymond  female                 AR4756@aol.com    7-11-17   \n",
      "159     Armando     Bender    male       Armando.Bender@gmail.com    7-11-17   \n",
      "160         Sam     Jarvis    male           Sam.Jarvis@gmail.com    7-11-17   \n",
      "162      Nelson       Cash    male         NelsonCash44@gmail.com    7-11-17   \n",
      "169      Dwight     Ingram    male        DIngram1974@hotmail.com    7-11-17   \n",
      "174      Jessie       Buck    male          Jessie.Buck@gmail.com    7-11-17   \n",
      "180     Antonio    Mcguire    male               AM3833@gmail.com    7-11-17   \n",
      "207   Alexander    Webster    male  Alexander.Webster@outlook.com    7-12-17   \n",
      "215      Vernon     Acosta    male          VAcosta1975@gmail.com    7-12-17   \n",
      "223    Courtney       Mack  female     CourtneyMack54@hotmail.com    7-12-17   \n",
      "224    Florence  Dominguez  female       FDominguez1976@gmail.com    7-12-17   \n",
      "248      Eileen       Chen  female          EChen1981@outlook.com    7-13-17   \n",
      "256     Matthew    Mathews    male     MatthewMathews83@gmail.com    7-13-17   \n",
      "273     Alfredo      Chang    male        Alfredo.Chang@gmail.com    7-13-17   \n",
      "274       Terry     Morrow  female          TMorrow1995@gmail.com    7-13-17   \n",
      "...         ...        ...     ...                            ...        ...   \n",
      "4675      Brett       Moon    male               BM2281@gmail.com     9-4-17   \n",
      "4680        Sam     Conrad    male          SConrad1974@gmail.com     9-4-17   \n",
      "4694     Regina      Drake  female           RDrake1996@gmail.com     9-4-17   \n",
      "4697       Karl     Valdez    male               KV1460@gmail.com     9-4-17   \n",
      "4707    Stephen    Skinner    male               SS8171@gmail.com     9-5-17   \n",
      "4726  Stephanie      Hogan  female         SHogan1999@outlook.com     9-5-17   \n",
      "4757  Alexander    Dickson    male    Alexander.Dickson@gmail.com     9-5-17   \n",
      "4777    Cynthia    Brennan  female         CBrennan1991@gmail.com     9-6-17   \n",
      "4784     Evelyn    Sherman  female         ESherman1979@gmail.com     9-6-17   \n",
      "4794      Sarah       Cain  female           Sarah.Cain@gmail.com     9-6-17   \n",
      "4797       Paul  Rasmussen    male               PR5705@gmail.com     9-6-17   \n",
      "4798     Albert       Sosa    male        AlbertSosa1@hotmail.com     9-6-17   \n",
      "4807     Gordon         Le    male           GordonLe26@gmail.com     9-6-17   \n",
      "4811      Lloyd   Espinoza    male        LEspinoza1974@gmail.com     9-6-17   \n",
      "4821     Audrey  Davenport  female    AudreyDavenport88@gmail.com     9-6-17   \n",
      "4840    Claudia    Randall  female         CRandall1988@gmail.com     9-7-17   \n",
      "4846        Ida       Chan  female               IC7428@gmail.com     9-7-17   \n",
      "4848     Walter     Ortega    male      Walter.Ortega@hotmail.com     9-7-17   \n",
      "4864   Terrence   Sandoval    male               TS7554@gmail.com     9-7-17   \n",
      "4868       Rosa    Woodard  female      RosaWoodard27@outlook.com     9-7-17   \n",
      "4893       Anna    Aguilar  female               AA9306@gmail.com     9-8-17   \n",
      "4905     Miriam     Phelps  female       MiriamPhelps13@gmail.com     9-8-17   \n",
      "4910       Mark     Barlow    male         MarkBarlow10@gmail.com     9-8-17   \n",
      "4918      Erika    Guthrie  female       ErikaGuthrie24@gmail.com     9-8-17   \n",
      "4934      Steve  Middleton    male               SM5586@gmail.com     9-8-17   \n",
      "4944    Frances       Kerr  female               FK7982@gmail.com     9-8-17   \n",
      "4964    Raymond   Cantrell    male     Raymond.Cantrell@gmail.com     9-9-17   \n",
      "4972    Roberta    Acevedo  female               RA8063@gmail.com     9-9-17   \n",
      "4991    Suzanne   Humphrey  female     SuzanneHumphrey4@gmail.com     9-9-17   \n",
      "5002      Ruben    Nielsen    male     RubenNielsen93@hotmail.com     9-9-17   \n",
      "\n",
      "     fitness_test_date application_date purchase_date ab_test_group  \\\n",
      "2                 None       2017-07-04    2017-07-04             B   \n",
      "3           2017-07-01       2017-07-03    2017-07-05             A   \n",
      "9           2017-07-07       2017-07-06          None             A   \n",
      "11          2017-07-03       2017-07-05    2017-07-06             A   \n",
      "35                None       2017-07-07    2017-07-13             B   \n",
      "36                None       2017-07-07          None             B   \n",
      "69                None       2017-07-12    2017-07-14             B   \n",
      "95                None       2017-07-11    2017-07-15             B   \n",
      "106               None       2017-07-10          None             B   \n",
      "122               None       2017-07-14    2017-07-18             B   \n",
      "131         2017-07-11       2017-07-15    2017-07-20             A   \n",
      "136         2017-07-15       2017-07-15          None             A   \n",
      "137               None       2017-07-17    2017-07-20             B   \n",
      "143               None       2017-07-13    2017-07-13             B   \n",
      "149         2017-07-12       2017-07-17    2017-07-17             A   \n",
      "154         2017-07-13       2017-07-17    2017-07-18             A   \n",
      "159               None       2017-07-13    2017-07-13             B   \n",
      "160         2017-07-14       2017-07-15    2017-07-20             A   \n",
      "162               None       2017-07-17    2017-07-18             B   \n",
      "169         2017-07-16       2017-07-16    2017-07-16             A   \n",
      "174               None       2017-07-13          None             B   \n",
      "180               None       2017-07-11    2017-07-13             B   \n",
      "207               None       2017-07-17    2017-07-20             B   \n",
      "215         2017-07-12       2017-07-14    2017-07-20             A   \n",
      "223               None       2017-07-12          None             B   \n",
      "224               None       2017-07-17    2017-07-20             B   \n",
      "248               None       2017-07-17    2017-07-17             B   \n",
      "256               None       2017-07-13          None             B   \n",
      "273         2017-07-19       2017-07-17          None             A   \n",
      "274         2017-07-16       2017-07-16    2017-07-21             A   \n",
      "...                ...              ...           ...           ...   \n",
      "4675        2017-09-06       2017-09-04    2017-09-04             A   \n",
      "4680              None       2017-09-07    2017-09-12             B   \n",
      "4694              None       2017-09-06    2017-09-09             B   \n",
      "4697              None       2017-09-07    2017-09-11             B   \n",
      "4707              None       2017-09-08    2017-09-10             B   \n",
      "4726              None       2017-09-07    2017-09-09             B   \n",
      "4757        2017-09-05       2017-09-10          None             A   \n",
      "4777        2017-09-08       2017-09-09    2017-09-11             A   \n",
      "4784        2017-09-07       2017-09-07    2017-09-12             A   \n",
      "4794              None       2017-09-11    2017-09-17             B   \n",
      "4797              None       2017-09-07    2017-09-08             B   \n",
      "4798        2017-09-09       2017-09-10    2017-09-14             A   \n",
      "4807              None       2017-09-11    2017-09-15             B   \n",
      "4811              None       2017-09-08          None             B   \n",
      "4821        2017-09-08       2017-09-07    2017-09-10             A   \n",
      "4840              None       2017-09-08    2017-09-10             B   \n",
      "4846              None       2017-09-10          None             B   \n",
      "4848        2017-09-09       2017-09-11    2017-09-11             A   \n",
      "4864              None       2017-09-07    2017-09-10             B   \n",
      "4868              None       2017-09-08    2017-09-14             B   \n",
      "4893        2017-09-09       2017-09-10    2017-09-16             A   \n",
      "4905              None       2017-09-13    2017-09-15             B   \n",
      "4910        2017-09-09       2017-09-11          None             A   \n",
      "4918        2017-09-13       2017-09-11    2017-09-13             A   \n",
      "4934        2017-09-08       2017-09-11    2017-09-17             A   \n",
      "4944        2017-09-12       2017-09-10    2017-09-15             A   \n",
      "4964              None       2017-09-13    2017-09-18             B   \n",
      "4972              None       2017-09-15    2017-09-16             B   \n",
      "4991        2017-09-09       2017-09-13    2017-09-18             A   \n",
      "5002              None       2017-09-13          None             B   \n",
      "\n",
      "     is_application   is_member  \n",
      "2       Application      Member  \n",
      "3       Application      Member  \n",
      "9       Application  Not Member  \n",
      "11      Application      Member  \n",
      "35      Application      Member  \n",
      "36      Application  Not Member  \n",
      "69      Application      Member  \n",
      "95      Application      Member  \n",
      "106     Application  Not Member  \n",
      "122     Application      Member  \n",
      "131     Application      Member  \n",
      "136     Application  Not Member  \n",
      "137     Application      Member  \n",
      "143     Application      Member  \n",
      "149     Application      Member  \n",
      "154     Application      Member  \n",
      "159     Application      Member  \n",
      "160     Application      Member  \n",
      "162     Application      Member  \n",
      "169     Application      Member  \n",
      "174     Application  Not Member  \n",
      "180     Application      Member  \n",
      "207     Application      Member  \n",
      "215     Application      Member  \n",
      "223     Application  Not Member  \n",
      "224     Application      Member  \n",
      "248     Application      Member  \n",
      "256     Application  Not Member  \n",
      "273     Application  Not Member  \n",
      "274     Application      Member  \n",
      "...             ...         ...  \n",
      "4675    Application      Member  \n",
      "4680    Application      Member  \n",
      "4694    Application      Member  \n",
      "4697    Application      Member  \n",
      "4707    Application      Member  \n",
      "4726    Application      Member  \n",
      "4757    Application  Not Member  \n",
      "4777    Application      Member  \n",
      "4784    Application      Member  \n",
      "4794    Application      Member  \n",
      "4797    Application      Member  \n",
      "4798    Application      Member  \n",
      "4807    Application      Member  \n",
      "4811    Application  Not Member  \n",
      "4821    Application      Member  \n",
      "4840    Application      Member  \n",
      "4846    Application  Not Member  \n",
      "4848    Application      Member  \n",
      "4864    Application      Member  \n",
      "4868    Application      Member  \n",
      "4893    Application      Member  \n",
      "4905    Application      Member  \n",
      "4910    Application  Not Member  \n",
      "4918    Application      Member  \n",
      "4934    Application      Member  \n",
      "4944    Application      Member  \n",
      "4964    Application      Member  \n",
      "4972    Application      Member  \n",
      "4991    Application      Member  \n",
      "5002    Application  Not Member  \n",
      "\n",
      "[575 rows x 11 columns]\n"
     ]
    }
   ],
   "source": [
    "just_apps = df[df.is_application == 'Application']\n",
    "print just_apps"
   ]
  },
  {
   "cell_type": "markdown",
   "metadata": {},
   "source": [
    "Great! Now, let's do a `groupby` to find out how many people in `just_apps` are and aren't members from each group.  Follow the same process that we did in Step 4, including pivoting the data.  You should end up with a DataFrame that looks like this:\n",
    "\n",
    "|is_member|ab_test_group|Member|Not Member|Total|Percent Purchase|\n",
    "|-|-|-|-|-|-|\n",
    "|0|A|?|?|?|?|\n",
    "|1|B|?|?|?|?|\n",
    "\n",
    "Save your final DataFrame as `member_pivot`."
   ]
  },
  {
   "cell_type": "code",
   "execution_count": 35,
   "metadata": {},
   "outputs": [
    {
     "name": "stdout",
     "output_type": "stream",
     "text": [
      "is_member ab_test_group  Member  Not Member  Total  Percent Purchase\n",
      "0                     A     200          50    250          0.800000\n",
      "1                     B     250          75    325          0.769231\n"
     ]
    }
   ],
   "source": [
    "member_count = just_apps.groupby(['ab_test_group', 'is_member']).first_name.count().reset_index()\n",
    "member_pivot = member_count.pivot(columns='is_member', index='ab_test_group', values='first_name').reset_index()\n",
    "\n",
    "member_pivot['Total'] = member_pivot.Member + member_pivot['Not Member']\n",
    "member_pivot['Percent Purchase'] = member_pivot.Member / member_pivot.Total\n",
    "\n",
    "print member_pivot"
   ]
  },
  {
   "cell_type": "markdown",
   "metadata": {},
   "source": [
    "It looks like people who took the fitness test were more likely to purchase a membership **if** they picked up an application.  Why might that be?\n",
    "\n",
    "Just like before, we need to know if this difference is statistically significant.  Choose a hypothesis tests, import it from `scipy` and perform it.  Be sure to note the p-value.\n",
    "Is this result significant?"
   ]
  },
  {
   "cell_type": "code",
   "execution_count": 36,
   "metadata": {},
   "outputs": [
    {
     "name": "stdout",
     "output_type": "stream",
     "text": [
      "0.43258646051083327\n"
     ]
    }
   ],
   "source": [
    "contingency2 = [[200, 50], [250, 75]]\n",
    "chi2, pval, dof, expected = chi2_contingency(contingency2)\n",
    "\n",
    "print pval"
   ]
  },
  {
   "cell_type": "markdown",
   "metadata": {},
   "source": [
    "Previously, we looked at what percent of people **who picked up applications** purchased memberships.  What we really care about is what percentage of **all visitors** purchased memberships.  Return to `df` and do a `groupby` to find out how many people in `df` are and aren't members from each group.  Follow the same process that we did in Step 4, including pivoting the data.  You should end up with a DataFrame that looks like this:\n",
    "\n",
    "|is_member|ab_test_group|Member|Not Member|Total|Percent Purchase|\n",
    "|-|-|-|-|-|-|\n",
    "|0|A|?|?|?|?|\n",
    "|1|B|?|?|?|?|\n",
    "\n",
    "Save your final DataFrame as `final_member_pivot`."
   ]
  },
  {
   "cell_type": "code",
   "execution_count": 37,
   "metadata": {},
   "outputs": [
    {
     "name": "stdout",
     "output_type": "stream",
     "text": [
      "is_member ab_test_group  Member  Not Member  Total  Percent Purchase\n",
      "0                     A     200        2304   2504          0.079872\n",
      "1                     B     250        2250   2500          0.100000\n"
     ]
    }
   ],
   "source": [
    "final_member_count = df.groupby(['ab_test_group', 'is_member']).first_name.count().reset_index()\n",
    "final_member_pivot = final_member_count.pivot(columns='is_member', index='ab_test_group', values='first_name').reset_index()\n",
    "\n",
    "final_member_pivot['Total'] = final_member_pivot.Member + final_member_pivot['Not Member']\n",
    "final_member_pivot['Percent Purchase'] = final_member_pivot.Member / final_member_pivot.Total\n",
    "\n",
    "print final_member_pivot"
   ]
  },
  {
   "cell_type": "markdown",
   "metadata": {},
   "source": [
    "Previously, when we only considered people who had **already picked up an application**, we saw that there was no significant difference in membership between Group A and Group B.\n",
    "\n",
    "Now, when we consider all people who **visit MuscleHub**, we see that there might be a significant different in memberships between Group A and Group B.  Perform a significance test and check."
   ]
  },
  {
   "cell_type": "code",
   "execution_count": 38,
   "metadata": {},
   "outputs": [
    {
     "name": "stdout",
     "output_type": "stream",
     "text": [
      "0.014724114645783203\n"
     ]
    }
   ],
   "source": [
    "contingency3 = [[200, 2304], [250, 2250]]\n",
    "chi2, pval, dof, expected = chi2_contingency(contingency3)\n",
    "\n",
    "print pval"
   ]
  },
  {
   "cell_type": "markdown",
   "metadata": {},
   "source": [
    "## Step 5: Summarize the acquisition funel with a chart"
   ]
  },
  {
   "cell_type": "markdown",
   "metadata": {},
   "source": [
    "We'd like to make a bar chart for Janet that shows the difference between Group A (people who were given the fitness test) and Group B (people who were not given the fitness test) at each state of the process:\n",
    "- Percent of visitors who apply\n",
    "- Percent of applicants who purchase a membership\n",
    "- Percent of visitors who purchase a membership\n",
    "\n",
    "Create one plot for **each** of the three sets of percentages that you calculated in `app_pivot`, `member_pivot` and `final_member_pivot`.  Each plot should:\n",
    "- Label the two bars as `Fitness Test` and `No Fitness Test`\n",
    "- Make sure that the y-axis ticks are expressed as percents (i.e., `5%`)\n",
    "- Have a title"
   ]
  },
  {
   "cell_type": "code",
   "execution_count": 39,
   "metadata": {},
   "outputs": [
    {
     "data": {
      "image/png": "[encoded data removed]",
      "text/plain": [
       "<matplotlib.figure.Figure at 0xf4033c8>"
      ]
     },
     "metadata": {},
     "output_type": "display_data"
    },
    {
     "data": {
      "text/plain": [
       "<matplotlib.figure.Figure at 0xf416390>"
      ]
     },
     "metadata": {},
     "output_type": "display_data"
    }
   ],
   "source": [
    "# Percent of Visitors who Apply\n",
    "ax = plt.subplot()\n",
    "plt.bar(range(len(app_pivot)),\n",
    "       app_pivot['Percent with Application'].values)\n",
    "ax.set_xticks(range(len(app_pivot)))\n",
    "ax.set_xticklabels(['Fitness Test', 'No Fitness Test'])\n",
    "ax.set_yticks([0, 0.05, 0.10, 0.15, 0.20])\n",
    "ax.set_yticklabels(['0%', '5%', '10%', '15%', '20%'])\n",
    "plt.show()\n",
    "plt.savefig('percent_visitors_apply.png')"
   ]
  },
  {
   "cell_type": "code",
   "execution_count": 40,
   "metadata": {},
   "outputs": [
    {
     "data": {
      "image/png": "[encoded data removed]",
      "text/plain": [
       "<matplotlib.figure.Figure at 0xf41a710>"
      ]
     },
     "metadata": {},
     "output_type": "display_data"
    },
    {
     "data": {
      "text/plain": [
       "<matplotlib.figure.Figure at 0xf643f60>"
      ]
     },
     "metadata": {},
     "output_type": "display_data"
    }
   ],
   "source": [
    "# Percent of Applicants who Purchase\n",
    "ax = plt.subplot()\n",
    "plt.bar(range(len(member_pivot)),\n",
    "       member_pivot['Percent Purchase'].values)\n",
    "ax.set_xticks(range(len(app_pivot)))\n",
    "ax.set_xticklabels(['Fitness Test', 'No Fitness Test'])\n",
    "ax.set_yticks([0, 0.1, 0.2, 0.3, 0.4, 0.5, 0.6, 0.7, 0.8, 0.9, 1])\n",
    "ax.set_yticklabels(['0%', '10%', '20%', '30%', '40%', '50%', '60%', '70%', '80%', '90%', '100%'])\n",
    "plt.show()\n",
    "plt.savefig('percent_apply_purchase.png')"
   ]
  },
  {
   "cell_type": "code",
   "execution_count": 41,
   "metadata": {},
   "outputs": [
    {
     "data": {
      "image/png": "[encoded data removed]",
      "text/plain": [
       "<matplotlib.figure.Figure at 0xf41a5c0>"
      ]
     },
     "metadata": {},
     "output_type": "display_data"
    },
    {
     "data": {
      "text/plain": [
       "<matplotlib.figure.Figure at 0xf758eb8>"
      ]
     },
     "metadata": {},
     "output_type": "display_data"
    }
   ],
   "source": [
    "# Percent of Visitors who Purchase\n",
    "ax = plt.subplot()\n",
    "plt.bar(range(len(final_member_pivot)),\n",
    "       final_member_pivot['Percent Purchase'].values)\n",
    "ax.set_xticks(range(len(app_pivot)))\n",
    "ax.set_xticklabels(['Fitness Test', 'No Fitness Test'])\n",
    "ax.set_yticks([0, 0.05, 0.10, 0.15, 0.20])\n",
    "ax.set_yticklabels(['0%', '5%', '10%', '15%', '20%'])\n",
    "plt.show()\n",
    "plt.savefig('percent_visitors_purchase.png')"
   ]
  },
  {
   "cell_type": "code",
   "execution_count": null,
   "metadata": {},
   "outputs": [],
   "source": []
  }
 ],
 "metadata": {
  "kernelspec": {
   "display_name": "Python 2",
   "language": "python",
   "name": "python2"
  },
  "language_info": {
   "codemirror_mode": {
    "name": "ipython",
    "version": 2
   },
   "file_extension": ".py",
   "mimetype": "text/x-python",
   "name": "python",
   "nbconvert_exporter": "python",
   "pygments_lexer": "ipython2",
   "version": "2.7.14"
  }
 },
 "nbformat": 4,
 "nbformat_minor": 2
}
